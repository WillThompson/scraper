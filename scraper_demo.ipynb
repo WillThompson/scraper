{
 "cells": [
  {
   "cell_type": "markdown",
   "metadata": {},
   "source": [
    "# *DOWNLOAD PROXIES FOR WEBSCRAPING*"
   ]
  },
  {
   "cell_type": "code",
   "execution_count": 1,
   "metadata": {},
   "outputs": [],
   "source": [
    "# Import the Scraper functionality\n",
    "import Scraper"
   ]
  },
  {
   "cell_type": "code",
   "execution_count": 4,
   "metadata": {},
   "outputs": [],
   "source": [
    "# Define the routine for obtaining proxies from the *https://free-proxy-list.net/*\n",
    "from selenium.webdriver.support.ui import Select\n",
    "from bs4 import BeautifulSoup\n",
    "\n",
    "# The link that we will scrape.\n",
    "link = 'https://free-proxy-list.net/'\n",
    "\n",
    "# Define the scraper routine that you will use at the link\n",
    "# RETURN: a pandas dataframe containing the data you want to collect.\n",
    "def scrape_routine_proxies(browser):\n",
    "    \n",
    "    # Select the option for the most numerous proxies\n",
    "    select = Select(browser.find_element_by_xpath('/html/body/section[1]/div/div[2]/div/div[1]/div[1]/div/label/select'))\n",
    "    elem = select.select_by_visible_text('80')\n",
    "\n",
    "    # Read the table and return a dataframe\n",
    "    soup = BeautifulSoup(browser.page_source,'html.parser')\n",
    "    table = soup.find('table', {'id' :\"proxylisttable\"})\n",
    "    headers = [h.text for h in table.find_all('th',{'aria-controls':\"proxylisttable\"})]\n",
    "    \n",
    "    rows = table.find_all('tr', {'class': \"odd\"}) + table.find_all('tr', {'class': \"even\"})\n",
    "    data = zip(*[[r.text for r in R.find_all('td')] for R in rows])\n",
    "    \n",
    "    return pd.DataFrame({a:b for (a,b) in zip(headers,data)})"
   ]
  },
  {
   "cell_type": "code",
   "execution_count": null,
   "metadata": {},
   "outputs": [],
   "source": []
  },
  {
   "cell_type": "code",
   "execution_count": 6,
   "metadata": {},
   "outputs": [],
   "source": [
    "import pandas as pd\n",
    "\n",
    "# Scrape the web proxies, then close the scraper object\n",
    "scr = Scraper.Scraper(isHeadless=True)\n",
    "df = scr.scrape_link(link,scrape_routine_proxies)\n",
    "scr.close()\n",
    "\n",
    "# properly format the columns for postgresql (i.e. lower case headers, no spaces.)\n",
    "df.columns = [header.lower().replace(\" \",\"_\") for header in df.columns]"
   ]
  },
  {
   "cell_type": "code",
   "execution_count": null,
   "metadata": {},
   "outputs": [],
   "source": []
  },
  {
   "cell_type": "code",
   "execution_count": 7,
   "metadata": {},
   "outputs": [],
   "source": [
    "# CREATE A POSTGRES TABLE TO STORE THESE PROXIES FOR USE LATER\n",
    "from sqlalchemy import create_engine, Column, Integer, String, DateTime\n",
    "from sqlalchemy.ext.declarative import declarative_base\n",
    "from sqlalchemy.engine.url import URL\n",
    "import db_configuration\n",
    "\n",
    "DB_CONFIG_DICT = db_configuration.DB_CONFIG_DICT\n",
    "DB_CONFIG_DICT['database'] = 'wills_db'\n",
    "\n",
    "DB_CONN_FORMAT = \"postgresql://{user}:{password}@{host}:{port}/{database}\"\n",
    "DB_CONN_URI_DEFAULT = (DB_CONN_FORMAT.format(**DB_CONFIG_DICT))\n",
    "\n",
    "# Create a function for a quick connection to the database\n",
    "def db_connect():\n",
    "    return create_engine(DB_CONN_URI_DEFAULT)"
   ]
  },
  {
   "cell_type": "code",
   "execution_count": 8,
   "metadata": {},
   "outputs": [],
   "source": [
    "conn = db_connect()\n",
    "conn.execute(\"DROP TABLE IF EXISTS proxies;\")\n",
    "df.to_sql('proxies',conn,index=None)"
   ]
  },
  {
   "cell_type": "code",
   "execution_count": 9,
   "metadata": {},
   "outputs": [
    {
     "data": {
      "text/plain": [
       "[('168.228.107.180', '8080', 'BR', 'Brazil', 'transparent', 'no', 'no', '20 seconds ago'),\n",
       " ('159.203.20.110', '8080', 'CA', 'Canada', 'anonymous', 'no', 'no', '22 seconds ago'),\n",
       " ('104.248.115.226', '8080', 'US', 'United States', 'anonymous', 'no', 'no', '22 seconds ago'),\n",
       " ('157.230.149.54', '80', 'US', 'United States', 'anonymous', 'no', 'no', '22 seconds ago'),\n",
       " ('157.230.157.60', '8080', 'US', 'United States', 'anonymous', 'no', 'no', '22 seconds ago'),\n",
       " ('206.81.11.75', '80', 'US', 'United States', 'anonymous', 'no', 'no', '22 seconds ago'),\n",
       " ('157.230.140.12', '8080', 'US', 'United States', 'anonymous', 'no', 'no', '22 seconds ago'),\n",
       " ('35.198.28.187', '8080', 'US', 'United States', 'elite proxy', 'no', 'no', '22 seconds ago'),\n",
       " ('134.209.231.163', '8080', 'DE', 'Germany', 'anonymous', 'no', 'no', '22 seconds ago'),\n",
       " ('157.230.210.133', '8080', 'US', 'United States', 'anonymous', 'no', 'no', '22 seconds ago')]"
      ]
     },
     "execution_count": 9,
     "metadata": {},
     "output_type": "execute_result"
    }
   ],
   "source": [
    "conn = db_connect()\n",
    "\n",
    "# Get the first ten results\n",
    "conn.execute(\"SELECT * FROM proxies;\").fetchall()[0:10]"
   ]
  },
  {
   "cell_type": "code",
   "execution_count": null,
   "metadata": {},
   "outputs": [],
   "source": []
  }
 ],
 "metadata": {
  "kernelspec": {
   "display_name": "Python 3",
   "language": "python",
   "name": "python3"
  },
  "language_info": {
   "codemirror_mode": {
    "name": "ipython",
    "version": 3
   },
   "file_extension": ".py",
   "mimetype": "text/x-python",
   "name": "python",
   "nbconvert_exporter": "python",
   "pygments_lexer": "ipython3",
   "version": "3.7.1"
  }
 },
 "nbformat": 4,
 "nbformat_minor": 2
}
